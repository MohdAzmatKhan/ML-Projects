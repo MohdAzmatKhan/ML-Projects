{
 "cells": [
  {
   "cell_type": "code",
   "execution_count": 2,
   "id": "4c14174f",
   "metadata": {},
   "outputs": [
    {
     "name": "stdout",
     "output_type": "stream",
     "text": [
      "[1]\n",
      "The loan has been approved by the company\n"
     ]
    },
    {
     "name": "stderr",
     "output_type": "stream",
     "text": [
      "C:\\Users\\Dell\\anaconda3\\lib\\site-packages\\sklearn\\base.py:450: UserWarning: X does not have valid feature names, but SVC was fitted with feature names\n",
      "  warnings.warn(\n"
     ]
    }
   ],
   "source": [
    "import joblib as jb \n",
    "import numpy as np\n",
    "\n",
    "model = jb.load('loan_Approval.joblib')\n",
    "\n",
    "input_data = (1,1,0,1,1,3000,0.0,66.0,360.0,1.0,2 )\n",
    "\n",
    "new_data = np.asarray(input_data)\n",
    "\n",
    "new_data_rs = new_data.reshape(1,-1)\n",
    "\n",
    "predictions = model.predict(new_data_rs)\n",
    "print(predictions)\n",
    "\n",
    "if (predictions[0]==0):\n",
    "    print(\"The Loan has not been approved by the company\")\n",
    "else:\n",
    "    print(\"The loan has been approved by the company\")\n"
   ]
  },
  {
   "cell_type": "code",
   "execution_count": null,
   "id": "09498844",
   "metadata": {},
   "outputs": [],
   "source": []
  }
 ],
 "metadata": {
  "kernelspec": {
   "display_name": "Python 3 (ipykernel)",
   "language": "python",
   "name": "python3"
  },
  "language_info": {
   "codemirror_mode": {
    "name": "ipython",
    "version": 3
   },
   "file_extension": ".py",
   "mimetype": "text/x-python",
   "name": "python",
   "nbconvert_exporter": "python",
   "pygments_lexer": "ipython3",
   "version": "3.9.13"
  }
 },
 "nbformat": 4,
 "nbformat_minor": 5
}
