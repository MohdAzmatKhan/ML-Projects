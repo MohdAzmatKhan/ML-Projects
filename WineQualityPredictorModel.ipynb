{
 "cells": [
  {
   "cell_type": "code",
   "execution_count": 3,
   "id": "c4b18e22",
   "metadata": {},
   "outputs": [],
   "source": [
    "import numpy as np\n",
    "import joblib as jb \n",
    "\n",
    "machine = jb.load(\"WineQualityPredictor.joblib\")"
   ]
  },
  {
   "cell_type": "code",
   "execution_count": 4,
   "id": "0145b246",
   "metadata": {},
   "outputs": [
    {
     "name": "stdout",
     "output_type": "stream",
     "text": [
      "[1]\n",
      "The winequality is GOOD!\n"
     ]
    },
    {
     "name": "stderr",
     "output_type": "stream",
     "text": [
      "C:\\Users\\Dell\\anaconda3\\lib\\site-packages\\sklearn\\base.py:450: UserWarning: X does not have valid feature names, but RandomForestClassifier was fitted with feature names\n",
      "  warnings.warn(\n"
     ]
    }
   ],
   "source": [
    "input_data = (8.5,0.28,0.56,1.8,0.092,35.0,103.0,0.9969,3.3,0.75,10.5)\n",
    "\n",
    "input_data_np = np.asarray(input_data)\n",
    "\n",
    "input_data_rs = input_data_np.reshape(1,-1)\n",
    "\n",
    "predictions = machine.predict(input_data_rs)\n",
    "\n",
    "print(predictions)\n",
    "\n",
    "if (predictions[0]==1) :\n",
    "    print(\"The winequality is GOOD!\")\n",
    "else :\n",
    "    print(\"The wine quality is NOT GOOD!!\")"
   ]
  },
  {
   "cell_type": "code",
   "execution_count": null,
   "id": "9fed611e",
   "metadata": {},
   "outputs": [],
   "source": []
  }
 ],
 "metadata": {
  "kernelspec": {
   "display_name": "Python 3 (ipykernel)",
   "language": "python",
   "name": "python3"
  },
  "language_info": {
   "codemirror_mode": {
    "name": "ipython",
    "version": 3
   },
   "file_extension": ".py",
   "mimetype": "text/x-python",
   "name": "python",
   "nbconvert_exporter": "python",
   "pygments_lexer": "ipython3",
   "version": "3.9.13"
  }
 },
 "nbformat": 4,
 "nbformat_minor": 5
}
